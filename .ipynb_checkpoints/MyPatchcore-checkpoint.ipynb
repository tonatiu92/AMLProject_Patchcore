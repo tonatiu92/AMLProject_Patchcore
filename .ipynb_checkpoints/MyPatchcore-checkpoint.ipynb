{
 "cells": [
  {
   "cell_type": "markdown",
   "id": "0c47ecf2",
   "metadata": {},
   "source": [
    "# Libraries"
   ]
  },
  {
   "cell_type": "markdown",
   "id": "da0ffd49",
   "metadata": {},
   "source": [
    "Here we store the libraries needed to run patchcore correctly including wich created by us."
   ]
  },
  {
   "cell_type": "code",
   "execution_count": 1,
   "id": "5ea2386d",
   "metadata": {},
   "outputs": [],
   "source": [
    "# External Modules\n",
    "import torch\n",
    "import torch.nn.functional as F\n",
    "import torchvision\n",
    "import numpy as np\n",
    "import timm\n",
    "import time\n",
    "import utils\n",
    "import tqdm\n",
    "import sampler\n",
    "import patchcore as PatchcoreLib\n",
    "from numba import jit, cuda\n",
    "from sklearn.metrics import roc_auc_score\n",
    "import matplotlib.pyplot as plt\n",
    "from sklearn.metrics import RocCurveDisplay\n",
    "from sklearn.metrics import roc_auc_score, confusion_matrix\n",
    "import os\n",
    "# Created Modules\n",
    "import data #load the dataset into data loader\n",
    "#import network as nn #load the neural network"
   ]
  },
  {
   "cell_type": "markdown",
   "id": "a6e2b0d4",
   "metadata": {},
   "source": [
    "# GPU\n",
    "Checking GPU status"
   ]
  },
  {
   "cell_type": "code",
   "execution_count": 2,
   "id": "29c98f74",
   "metadata": {},
   "outputs": [
    {
     "name": "stdout",
     "output_type": "stream",
     "text": [
      "True\n"
     ]
    }
   ],
   "source": [
    "print(torch.cuda.is_available())"
   ]
  },
  {
   "cell_type": "code",
   "execution_count": 3,
   "id": "cc17da11",
   "metadata": {},
   "outputs": [
    {
     "name": "stdout",
     "output_type": "stream",
     "text": [
      "NVIDIA GeForce RTX 3060 Laptop GPU\n"
     ]
    }
   ],
   "source": [
    "print(torch.cuda.get_device_name())"
   ]
  },
  {
   "cell_type": "code",
   "execution_count": 4,
   "id": "60698f4a",
   "metadata": {},
   "outputs": [],
   "source": [
    "#Defining the device\n",
    "device = torch.device(\"cuda:0\")"
   ]
  },
  {
   "cell_type": "code",
   "execution_count": 5,
   "id": "21cde9f1",
   "metadata": {},
   "outputs": [],
   "source": [
    "torch.cuda.empty_cache()"
   ]
  },
  {
   "cell_type": "markdown",
   "id": "d712d8f1",
   "metadata": {},
   "source": [
    "# Patchcore"
   ]
  },
  {
   "cell_type": "code",
   "execution_count": 6,
   "id": "866dc522",
   "metadata": {},
   "outputs": [],
   "source": [
    "# Global variables\n",
    "RESIZE = 256\n",
    "IMAGESIZE = 224\n",
    "PATCHSIZE = 3\n",
    "PATCHSTRIDE = 1\n",
    "DILATION = 1\n",
    "PRETRAIN_EMBED = 1024\n",
    "TARGET_EMBED = 1024\n",
    "BATCH_SIZE = 1\n",
    "PERCENTAGE = 0.1"
   ]
  },
  {
   "cell_type": "markdown",
   "id": "8f0ad5c8",
   "metadata": {},
   "source": [
    "## Load the datasets"
   ]
  },
  {
   "cell_type": "markdown",
   "id": "a461163b",
   "metadata": {},
   "source": [
    "- Loading the desired datasets"
   ]
  },
  {
   "cell_type": "code",
   "execution_count": 7,
   "id": "df3dba2a",
   "metadata": {},
   "outputs": [],
   "source": [
    "selected_data = ['bottle']\n",
    "datasets =  data.export_data(\".\\data\",selected_data, RESIZE, IMAGESIZE, BATCH_SIZE)"
   ]
  },
  {
   "cell_type": "code",
   "execution_count": 8,
   "id": "49fe2cd1",
   "metadata": {},
   "outputs": [
    {
     "data": {
      "text/plain": [
       "{'bottle': {'train': <data.Data at 0x20c9da59730>,\n",
       "  'test': <data.Data at 0x20c9da59f40>}}"
      ]
     },
     "execution_count": 8,
     "metadata": {},
     "output_type": "execute_result"
    }
   ],
   "source": [
    "#checking\n",
    "datasets"
   ]
  },
  {
   "cell_type": "markdown",
   "id": "5dec92fa",
   "metadata": {},
   "source": [
    "## 2. Autoencoder - ResNet"
   ]
  },
  {
   "cell_type": "markdown",
   "id": "65aee767",
   "metadata": {},
   "source": [
    "### Params"
   ]
  },
  {
   "cell_type": "markdown",
   "id": "da62ab72",
   "metadata": {},
   "source": [
    "- ResNetlike architecture with layers = {1,2,3,4}\n",
    "- Pathcore uses j and j + 1 layers\n",
    "- As we want mid-level features, we will use 2 and 3"
   ]
  },
  {
   "cell_type": "code",
   "execution_count": 9,
   "id": "e6ccb508",
   "metadata": {},
   "outputs": [],
   "source": [
    "#In general for Resnet we use those layers.\n",
    "extract_layers = [2,3]"
   ]
  },
  {
   "cell_type": "markdown",
   "id": "13bed9e8",
   "metadata": {},
   "source": [
    "### Timm Widereset"
   ]
  },
  {
   "cell_type": "code",
   "execution_count": 10,
   "id": "cc3a673b",
   "metadata": {},
   "outputs": [],
   "source": [
    "name = \"wide_resnet50_2\"\n",
    "# We need to use timm because we will use pretrained dataset\n",
    "#Setting the resnet with out_indices that are our mid-level features\n",
    "neural_network = timm.create_model(name, out_indices = extract_layers, features_only = True, pretrained = True)\n",
    "neural_network.eval()\n",
    "neural_network = neural_network.to(device)"
   ]
  },
  {
   "cell_type": "markdown",
   "id": "ee530bbf",
   "metadata": {},
   "source": [
    "### 3. Sampler Definition"
   ]
  },
  {
   "cell_type": "code",
   "execution_count": 11,
   "id": "44ad31bd",
   "metadata": {},
   "outputs": [],
   "source": [
    "# Defining the parameter of the sampler\n",
    "sampling = sampler.Sampler(PERCENTAGE,device)"
   ]
  },
  {
   "cell_type": "markdown",
   "id": "499dc722",
   "metadata": {},
   "source": [
    "### Pathcore Instance"
   ]
  },
  {
   "cell_type": "code",
   "execution_count": 12,
   "id": "ae3127f5",
   "metadata": {},
   "outputs": [],
   "source": [
    "patchcore = PatchcoreLib.Patchcore(neural_network,sampling,\n",
    "                                RESIZE,IMAGESIZE,PATCHSIZE,PATCHSTRIDE,DILATION,PRETRAIN_EMBED,TARGET_EMBED,\n",
    "                                device)"
   ]
  },
  {
   "cell_type": "markdown",
   "id": "670fc5e2",
   "metadata": {},
   "source": [
    "### Fitting and testing Patchcore"
   ]
  },
  {
   "cell_type": "code",
   "execution_count": null,
   "id": "6f58d671",
   "metadata": {},
   "outputs": [
    {
     "name": "stdout",
     "output_type": "stream",
     "text": [
      "bottle begin at \n",
      "--- 0.0010001659393310547 seconds ---\n"
     ]
    }
   ],
   "source": [
    "start_time = time.time()\n",
    "score_list = {}\n",
    "for data in datasets:\n",
    "    print(f\"{data} begin at \")\n",
    "    print(\"--- %s seconds ---\" % (time.time() - start_time))\n",
    "    patchcore.fit(datasets[data][\"train\"].dataloader)\n",
    "    print(f\"{data} fit end at \")\n",
    "    print(\"--- %s seconds ---\" % (time.time() - start_time))\n",
    "    score_list[data] = patchcore.predict(datasets[data][\"test\"].dataloader)\n",
    "    print(f\"{data} end at \")\n",
    "    print(\"--- %s seconds ---\" % (time.time() - start_time))"
   ]
  },
  {
   "cell_type": "markdown",
   "id": "b92f2da4",
   "metadata": {},
   "source": [
    "### Analysis of patchcore scores"
   ]
  },
  {
   "cell_type": "code",
   "execution_count": null,
   "id": "1bf08d6f",
   "metadata": {},
   "outputs": [],
   "source": [
    "stat = dict.fromkeys(selected_data, {})"
   ]
  },
  {
   "cell_type": "code",
   "execution_count": null,
   "id": "2fa71723",
   "metadata": {},
   "outputs": [],
   "source": [
    "for data in datasets:\n",
    "    \n",
    "    print(f\"--------RESULTS FOR {data}-----------\")\n",
    "    label =[1 if x[\"score\"][1][0]!=\"good\" else 0 for x in score_list[data]]\n",
    "    preds = [x[\"score\"][0].to(\"cpu\") for x in score_list[data]]\n",
    "    label = np.stack(label)\n",
    "    preds = np.stack(preds)\n",
    "    stat[data][\"roc_auc\"] = roc_auc_score(label, preds)\n",
    "    print(f\"roc_auc score: {stat[data]['roc_auc']}\")\n",
    "    print(f\"We obtain the following plot: \")\n",
    "    utils.ROC(label, preds, data)\n",
    "    image_paths = [os.path.join(\".\\data\",f\"{data}\",\"test\",x[0],x[1]) for x in datasets[data][\"test\"].dataloader.dataset.data_to_iterate]\n",
    "    mask_paths = [x[2] for x in datasets[data][\"test\"].dataloader.dataset.data_to_iterate]\n",
    "    image_save_path = f\".\\\\data\\\\{data}\\\\segmentation\"\n",
    "    os.makedirs(image_save_path, exist_ok = True)\n",
    "    mask_list = [x[\"mask\"][0].to(\"cpu\") for x in score_list[data]]\n",
    "    utils.plot_segmentation_images(datasets,data,image_save_path,image_paths,mask_list,preds,mask_paths)"
   ]
  },
  {
   "cell_type": "markdown",
   "id": "79962e6e",
   "metadata": {},
   "source": [
    "## Training on different k"
   ]
  },
  {
   "cell_type": "code",
   "execution_count": null,
   "id": "6dda64e2",
   "metadata": {},
   "outputs": [],
   "source": [
    "d_k = {1:[],2:[],3:[],4:[],5:[]}\n",
    "start_time = time.time()\n",
    "score_list2 = {}\n",
    "for k in range(2,6):\n",
    "    \n",
    "    \n",
    "    patchcore = PatchcoreLib.Patchcore(neural_network,sampling,\n",
    "                                    RESIZE,IMAGESIZE,PATCHSIZE,PATCHSTRIDE,DILATION,PRETRAIN_EMBED,TARGET_EMBED,\n",
    "                                    device,k)\n",
    "    for data in datasets:\n",
    "        print(f\"{data} begin at \")\n",
    "        print(\"--- %s seconds ---\" % (time.time() - start_time))\n",
    "        patchcore.fit(datasets[data][\"train\"].dataloader)\n",
    "        print(f\"{data} fit end at \")\n",
    "        print(\"--- %s seconds ---\" % (time.time() - start_time))\n",
    "        score_list2[data] = patchcore.predict(datasets[data][\"test\"].dataloader)\n",
    "        print(f\"{data} end at \")\n",
    "        print(\"--- %s seconds ---\" % (time.time() - start_time))\n",
    "    \n",
    "    for data in datasets:\n",
    "        print(f\"--------RESULTS FOR {data}-----------\")\n",
    "        label =[1 if x[\"score\"][1][0]!=\"good\" else 0 for x in score_list2[data]]\n",
    "        preds = [x[\"score\"][0].to(\"cpu\") for x in score_list2[data]]\n",
    "        label = np.stack(label)\n",
    "        preds = np.stack(preds)\n",
    "        d_k[k].append(roc_auc_score(label, preds))"
   ]
  },
  {
   "cell_type": "code",
   "execution_count": null,
   "id": "e74f6443",
   "metadata": {},
   "outputs": [],
   "source": [
    "with open('k_2.txt','w') as f:\n",
    "    f.write('dict = ' + str(d_k) + '\\n')"
   ]
  },
  {
   "cell_type": "markdown",
   "id": "50657881",
   "metadata": {},
   "source": [
    "## Training on different Percentage"
   ]
  },
  {
   "cell_type": "code",
   "execution_count": null,
   "id": "851bf16f",
   "metadata": {},
   "outputs": [],
   "source": [
    "d_percentage = {str(0.1):[],str(0.25):[],str(0.5):[],str(1):[]}\n",
    "start_time = time.time()\n",
    "score_list2 = {}\n",
    "for per in [1]:\n",
    "    torch.cuda.empty_cache()\n",
    "    sampling = sampler.Sampler(per,device)\n",
    "    patchcore = PatchcoreLib.Patchcore(neural_network,sampling,\n",
    "                                    RESIZE,IMAGESIZE,PATCHSIZE,PATCHSTRIDE,DILATION,PRETRAIN_EMBED,TARGET_EMBED,\n",
    "                                    device)\n",
    "    for data in datasets:\n",
    "        torch.cuda.empty_cache()\n",
    "        print(f\"{data} begin at \")\n",
    "        print(\"--- %s seconds ---\" % (time.time() - start_time))\n",
    "        patchcore.fit(datasets[data][\"train\"].dataloader)\n",
    "        print(f\"{data} fit end at \")\n",
    "        print(\"--- %s seconds ---\" % (time.time() - start_time))\n",
    "        score_list2[data] = patchcore.predict(datasets[data][\"test\"].dataloader)\n",
    "        print(f\"{data} end at \")\n",
    "        print(\"--- %s seconds ---\" % (time.time() - start_time))\n",
    "    \n",
    "    for data in datasets:\n",
    "        print(f\"--------RESULTS FOR {data}-----------\")\n",
    "        label =[1 if x[\"score\"][1][0]!=\"good\" else 0 for x in score_list2[data]]\n",
    "        preds = [x[\"score\"][0].to(\"cpu\") for x in score_list2[data]]\n",
    "        label = np.stack(label)\n",
    "        preds = np.stack(preds)\n",
    "        d_percentage[str(per)].append(roc_auc_score(label, preds))"
   ]
  },
  {
   "cell_type": "code",
   "execution_count": null,
   "id": "3cd9e810",
   "metadata": {},
   "outputs": [],
   "source": [
    "with open('percentage_3.txt','w') as f:\n",
    "    f.write('dict = ' + str(d_percentage) + '\\n')"
   ]
  },
  {
   "cell_type": "markdown",
   "id": "62e9507c",
   "metadata": {},
   "source": [
    "### Plotting Hyperparameters Graphs"
   ]
  },
  {
   "cell_type": "code",
   "execution_count": null,
   "id": "10c018b3",
   "metadata": {},
   "outputs": [],
   "source": []
  }
 ],
 "metadata": {
  "kernelspec": {
   "display_name": "Python 3 (ipykernel)",
   "language": "python",
   "name": "python3"
  },
  "language_info": {
   "codemirror_mode": {
    "name": "ipython",
    "version": 3
   },
   "file_extension": ".py",
   "mimetype": "text/x-python",
   "name": "python",
   "nbconvert_exporter": "python",
   "pygments_lexer": "ipython3",
   "version": "3.9.7"
  },
  "vscode": {
   "interpreter": {
    "hash": "369f2c481f4da34e4445cda3fffd2e751bd1c4d706f27375911949ba6bb62e1c"
   }
  }
 },
 "nbformat": 4,
 "nbformat_minor": 5
}
